{
    "cells": [
        {
            "attachments": {},
            "cell_type": "markdown",
            "metadata": {
                "azdata_cell_guid": "54326aff-51cd-4766-8046-828a92489c6d"
            },
            "source": [
                "# Studio: Working with Databases in Python\n",
                "\n",
                "For today's studio, we will be using the [TV Shows dataset](https://www.kaggle.com/ruchi798/tv-shows-on-netflix-prime-video-hulu-and-disney) from Kaggle. We have already downloaded the CSV for you.\n",
                "\n",
                "You will use the watchlist you created to answer these questions:\n",
                "\n",
                "1. **Which streaming services contain the shows you want to watch next?**\n",
                "2. **Which streaming service is the best value based on the shows you want to watch?**\n",
                "\n",
                "As you complete the different tasks in the studio, you may choose between using Pandas or SQL. \n",
                "\n",
                "**Remember**: we learned in our prep work that one is oftentimes more efficient at certain tasks than the other, so choose wisely!"
            ]
        },
        {
            "attachments": {},
            "cell_type": "markdown",
            "metadata": {
                "azdata_cell_guid": "00bc62ef-6c46-40a2-bdad-a3250a003ce7"
            },
            "source": [
                "## My Watchlist\n",
                "\n",
                "If you would like, please use this space to make note of your watchlist by editing the text cell. You will need 10 shows overall.\n",
                "\n",
                "1. Jet Lag\n",
                "2. The Grand Tour\n",
                "3. Economics Explained\n",
                "4. Johnny Harris\n",
                "5. RealLifeLore\n",
                "6. Half as Interesting\n",
                "7. Paddy Doyle\n",
                "8. Kara and Nate\n",
                "9. Bald and Bankrupt\n",
                "10. Ted Lasso"
            ]
        },
        {
            "cell_type": "markdown",
            "metadata": {
                "azdata_cell_guid": "040bdac5-f7fc-474f-b112-1d807249ad0a"
            },
            "source": [
                "## Database Setup\n",
                "\n",
                "Import the necessary libraries and create a dataframe from the provided CSV. \n",
                "\n",
                "Print the info out for the dataframe. \n",
                "\n",
                "After that, you may drop the column called `Unnamed: 0` and rename any columns with spaces or unusual characters in the names such as `\"Disney+\"`. \n",
                "\n",
                "Print out the info for the dataframe again to ensure your changes were made."
            ]
        },
        {
            "cell_type": "code",
            "execution_count": 4,
            "metadata": {
                "azdata_cell_guid": "965f15d3-27b1-43ed-97e4-8c6fd482476c",
                "tags": []
            },
            "outputs": [
                {
                    "name": "stdout",
                    "output_type": "stream",
                    "text": [
                        "<class 'pandas.core.frame.DataFrame'>\n",
                        "RangeIndex: 5368 entries, 0 to 5367\n",
                        "Data columns (total 11 columns):\n",
                        " #   Column           Non-Null Count  Dtype \n",
                        "---  ------           --------------  ----- \n",
                        " 0   ID               5368 non-null   int64 \n",
                        " 1   Title            5368 non-null   object\n",
                        " 2   Year             5368 non-null   int64 \n",
                        " 3   Age              3241 non-null   object\n",
                        " 4   IMDb             4406 non-null   object\n",
                        " 5   Rotten Tomatoes  5368 non-null   object\n",
                        " 6   Netflix          5368 non-null   int64 \n",
                        " 7   Hulu             5368 non-null   int64 \n",
                        " 8   Prime Video      5368 non-null   int64 \n",
                        " 9   Disney+          5368 non-null   int64 \n",
                        " 10  Type             5368 non-null   int64 \n",
                        "dtypes: int64(7), object(4)\n",
                        "memory usage: 461.4+ KB\n",
                        "None\n"
                    ]
                }
            ],
            "source": [
                "# Code here\n",
                "\n",
                "import sqlite3\n",
                "import pandas as pd\n",
                "\n",
                "df = pd.read_csv(r'C:\\Users\\bccut\\OneDrive\\Desktop\\LaunchCode\\data-analysis-projects\\databases-python-pandas\\studio\\tv_shows.csv')\n",
                "\n",
                "df.drop('Unnamed: 0', axis=1, inplace=True)\n",
                "\n",
                "print(df.info())\n"
            ]
        },
        {
            "attachments": {},
            "cell_type": "markdown",
            "metadata": {
                "azdata_cell_guid": "93875e01-f1ec-45ab-b8b3-c0fe09c89c41"
            },
            "source": [
                "With your dataframe at the ready, create a new database called `tv.db`. \n",
                "\n",
                "Add a new table to your database called `shows` using the data in the dataframe. "
            ]
        },
        {
            "cell_type": "code",
            "execution_count": null,
            "metadata": {},
            "outputs": [],
            "source": [
                "# Code here\n",
                "tv_db = sqlite3.connect('tv.db')\n",
                "df.to_sql('shows', tv_db, if_exists='replace')\n",
                "tv_db.execute(\n",
                "    '''\n",
                "    create table shows as\n",
                "    select * from shows\n",
                "    '''\n",
                ")\n"
            ]
        },
        {
            "attachments": {},
            "cell_type": "markdown",
            "metadata": {
                "azdata_cell_guid": "4916f211-149f-467b-b5e4-22ad946b54f2"
            },
            "source": [
                "With your new table and database set up, print out the top 20 records in the `shows` table."
            ]
        },
        {
            "cell_type": "code",
            "execution_count": 12,
            "metadata": {
                "azdata_cell_guid": "c6aa3980-3eef-4d7d-8f04-961508662147",
                "tags": []
            },
            "outputs": [
                {
                    "name": "stdout",
                    "output_type": "stream",
                    "text": [
                        "(0, 1, 'Breaking Bad', 2008, '18+', '9.4/10', '100/100', 1, 0, 0, 0, 1)\n",
                        "(1, 2, 'Stranger Things', 2016, '16+', '8.7/10', '96/100', 1, 0, 0, 0, 1)\n",
                        "(2, 3, 'Attack on Titan', 2013, '18+', '9.0/10', '95/100', 1, 1, 0, 0, 1)\n",
                        "(3, 4, 'Better Call Saul', 2015, '18+', '8.8/10', '94/100', 1, 0, 0, 0, 1)\n",
                        "(4, 5, 'Dark', 2017, '16+', '8.8/10', '93/100', 1, 0, 0, 0, 1)\n",
                        "(5, 6, 'Avatar: The Last Airbender', 2005, '7+', '9.3/10', '93/100', 1, 0, 1, 0, 1)\n",
                        "(6, 7, 'Peaky Blinders', 2013, '18+', '8.8/10', '93/100', 1, 0, 0, 0, 1)\n",
                        "(7, 8, 'The Walking Dead', 2010, '18+', '8.2/10', '93/100', 1, 0, 0, 0, 1)\n",
                        "(8, 9, 'Black Mirror', 2011, '18+', '8.8/10', '92/100', 1, 0, 0, 0, 1)\n",
                        "(9, 10, \"The Queen's Gambit\", 2020, '18+', '8.6/10', '92/100', 1, 0, 0, 0, 1)\n",
                        "(10, 11, 'Mindhunter', 2017, '18+', '8.6/10', '90/100', 1, 0, 0, 0, 1)\n",
                        "(11, 12, 'Community', 2009, '7+', '8.5/10', '90/100', 1, 1, 1, 0, 1)\n",
                        "(12, 13, 'Narcos', 2015, '18+', '8.8/10', '90/100', 1, 0, 0, 0, 1)\n",
                        "(13, 14, 'Shameless', 2011, '18+', '8.5/10', '90/100', 1, 1, 1, 0, 1)\n",
                        "(14, 15, 'Money Heist', 2017, '18+', '8.3/10', '90/100', 1, 0, 0, 0, 1)\n",
                        "(15, 16, \"Marvel's Daredevil\", 2015, '18+', '8.6/10', '90/100', 1, 0, 0, 0, 1)\n",
                        "(16, 17, 'Lucifer', 2016, '16+', '8.1/10', '90/100', 1, 0, 0, 0, 1)\n",
                        "(17, 18, 'Supernatural', 2005, '16+', '8.4/10', '89/100', 1, 0, 0, 0, 1)\n",
                        "(18, 19, 'The Witcher', 2019, '18+', '8.2/10', '89/100', 1, 0, 0, 0, 1)\n",
                        "(19, 20, 'Ozark', 2017, '18+', '8.4/10', '89/100', 1, 0, 0, 0, 1)\n"
                    ]
                }
            ],
            "source": [
                "# Code Here\n",
                "# Create a cursor object\n",
                "cur = tv_db.cursor()\n",
                "\n",
                "# Execute the SQL query\n",
                "cur.execute(\"SELECT * FROM shows LIMIT 20;\")\n",
                "\n",
                "# Fetch the results\n",
                "results = cur.fetchall()\n",
                "\n",
                "# Print the results\n",
                "for row in results:\n",
                "    print(row)\n"
            ]
        },
        {
            "attachments": {},
            "cell_type": "markdown",
            "metadata": {
                "azdata_cell_guid": "f158ccd2-c87a-4d2c-a947-0eadd0484a3e"
            },
            "source": [
                "Now, create a new table called `watchlist` that has three fields:\n",
                "1. id -> data type of `INTEGER NOT NULL PRIMARY KEY AUTOINCREMENT`\n",
                "2. title -> data type of `TEXT`\n",
                "3. importance_rank -> data type of `INTEGER`\n",
                "\n",
                "For the `importance_rank` field, rank each of your watchlist shows based on how much you want to see them, `10` being the most important and `1` being the least important.\n",
                "\n",
                "Then, insert each of the items from your watchlist into the new `watchlist` table, using the `executemany` method from our exercises.\n",
                "\n",
                "Finally, select all the records from the `watchlist` table and print them out to the console."
            ]
        },
        {
            "cell_type": "code",
            "execution_count": 17,
            "metadata": {},
            "outputs": [],
            "source": [
                "# Code here\n",
                "\n",
                "# cur.execute(\"CREATE TABLE watchlist (id INTEGER NOT NULL PRIMARY KEY AUTOINCREMENT, title TEXT, importance_rank INTEGER)\")\n",
                "\n",
                "# cur.execute(\"\"\"\n",
                "#     BEGIN;\n",
                "#     INSERT INTO watchlist ('Jet Lag', 1);\n",
                "#     INSERT INTO watchlist ('Grand Tour', 2);\n",
                "#     INSERT INTO watchlist ('Economics Explained', 3);\n",
                "#     INSERT INTO watchlist ('Johnny Harris', 4);\n",
                "#     INSERT INTO watchlist ('RealLifeLore', 5);\n",
                "#     INSERT INTO watchlist ('Half as Interesting', 6);\n",
                "#     INSERT INTO watchlist ('Paddy Doyle', 7);\n",
                "#     INSERT INTO watchlist ('Kara and Nate', 8);\n",
                "#     INSERT INTO watchlist ('Bald and Bankrupt', 9);\n",
                "#     INSERT INTO watchlist ('Indigo Traveller', 10);\n",
                "#     COMMIT;\n",
                "# \"\"\")\n",
                "\n",
                "\n",
                "# cur.executemany(\"INSERT INTO watchlist (title, importance_rank) VALUES (?, ?)\", watchlist_data)\n",
                "\n",
                "# Commit the changes\n",
                "tv_db.commit()\n",
                "\n",
                "# Select and print all records from the 'watchlist' table\n",
                "cur.execute(\"SELECT * FROM watchlist\")\n",
                "results = cur.fetchall()\n",
                "for row in results:\n",
                "    print(row)"
            ]
        },
        {
            "attachments": {},
            "cell_type": "markdown",
            "metadata": {
                "azdata_cell_guid": "4716090d-63e3-4283-8245-934c4a28c750"
            },
            "source": [
                "## Working with the Data\n",
                "\n",
                "Using Pandas or SQL, find the answer to these 2 questions:\n",
                "1. How many of the total shows (full csv list) are on each streaming service? 5368\n",
                "2. What percentage of these total shows is available on each streaming service?\n",
                "\n",
                "**Hint**:\n",
                "\n",
                "Use the pandas `query` method to filter the data, and then the Python `len` method to find it's length. [Relevant Link](https://www.geeksforgeeks.org/ways-to-filter-pandas-dataframe-by-column-values/)"
            ]
        },
        {
            "cell_type": "code",
            "execution_count": 53,
            "metadata": {
                "azdata_cell_guid": "8e4f3757-474f-4e20-b861-db973437b541"
            },
            "outputs": [
                {
                    "name": "stdout",
                    "output_type": "stream",
                    "text": [
                        "5368\n",
                        "Number of Shows per Streaming Service:\n",
                        "Netflix\n",
                        "0    3397\n",
                        "1    1971\n",
                        "dtype: int64\n",
                        "Hulu\n",
                        "0    3747\n",
                        "1    1621\n",
                        "dtype: int64\n",
                        "Prime Video\n",
                        "0    3537\n",
                        "1    1831\n",
                        "dtype: int64\n",
                        "Disney+\n",
                        "0    5017\n",
                        "1     351\n",
                        "dtype: int64\n",
                        "\n",
                        "Percentage of Shows per Streaming Service:\n",
                        "Netflix\n",
                        "0    63.282414\n",
                        "1    36.717586\n",
                        "dtype: float64\n",
                        "Hulu\n",
                        "0    69.802534\n",
                        "1    30.197466\n",
                        "dtype: float64\n",
                        "Prime Video\n",
                        "0    65.890462\n",
                        "1    34.109538\n",
                        "dtype: float64\n",
                        "Disney+\n",
                        "0    93.461252\n",
                        "1     6.538748\n",
                        "dtype: float64\n"
                    ]
                }
            ],
            "source": [
                "# Code here\n",
                "\n",
                "total_shows = len(df)\n",
                "print(total_shows)\n",
                "\n",
                "shows_per_netflix = df.groupby('Netflix').size()\n",
                "percentage_netflix = (shows_per_netflix / total_shows) * 100\n",
                "\n",
                "shows_per_hulu = df.groupby('Hulu').size()\n",
                "percentage_hulu = (shows_per_hulu / total_shows) * 100\n",
                "\n",
                "shows_per_pv = df.groupby('Prime Video').size()\n",
                "percentage_pv = (shows_per_pv / total_shows) * 100\n",
                "\n",
                "shows_per_disney = df.groupby('Disney+').size()\n",
                "percentage_disney = (shows_per_disney / total_shows) * 100\n",
                "\n",
                "print(\"Number of Shows per Streaming Service:\")\n",
                "print(shows_per_netflix)\n",
                "print(shows_per_hulu)\n",
                "print(shows_per_pv)\n",
                "print(shows_per_disney)\n",
                "\n",
                "print(\"\\nPercentage of Shows per Streaming Service:\")\n",
                "print(percentage_netflix)\n",
                "print(percentage_hulu)\n",
                "print(percentage_pv)\n",
                "print(percentage_disney)\n"
            ]
        },
        {
            "attachments": {},
            "cell_type": "markdown",
            "metadata": {
                "azdata_cell_guid": "167cbd0d-ad9f-4f27-8066-e45dfdfaf421"
            },
            "source": [
                "\n",
                "Now join your `watchlist` data to the `shows` data using pandas or SQL. Verify that you joined the data correctly.\n",
                "\n",
                "Using this related dataset, come up with analytic code that answers these questions:\n",
                "1. The number of watchlist shows each streaming service has\n",
                "2. The percentage of your overall watchlist each streaming service has\n"
            ]
        },
        {
            "cell_type": "code",
            "execution_count": null,
            "metadata": {
                "azdata_cell_guid": "b871523e-a476-4f3a-a6ac-2e251f140e84"
            },
            "outputs": [],
            "source": [
                "# Code here\n",
                "conn = sqlite3.connect('tv.db')\n",
                "\n",
                "conn = sqlite3.connect('watchlist.db')\n",
                "\n",
                "# Read the tables into DataFrames\n",
                "table1_df = pd.read_sql_query(\"SELECT * FROM shows\", conn)\n",
                "table2_df = pd.read_sql_query(\"SELECT * FROM watchlist\", conn)\n",
                "\n",
                "# Join the DataFrames on a common column (replace 'common_column' with the actual column name)\n",
                "merged_df = pd.merge(table1_df, table2_df, on='Title')\n",
                "\n",
                "# Print the merged DataFrame\n",
                "print(merged_df)"
            ]
        },
        {
            "cell_type": "markdown",
            "metadata": {
                "azdata_cell_guid": "909689e4-1aae-41e3-b1f8-158ebe5ec3ca"
            },
            "source": [
                "## Results\n",
                "\n",
                "Now that you have done your analysis, make note of the answers to the following questions by editing the text cell:\n",
                "\n",
                "1. Was every show on your watchlist in the Kaggle dataset? Do you have any ideas as to why a show might not have been present?\n",
                "\n",
                "- No, not every show was in the Kaggle Dataset.  This is because they don't have an agreement with one of the streaming services. \n",
                "\n",
                "2. Did you include a show or shows in your watchlist that is exclusive to one of the platforms? How might that have impacted your analysis?\n",
                "\n",
                "- Yes, The Grand Tour.  The only one that would show up if inner joined on Title.\n",
                "\n",
                "3. Which streaming service(s) offered the most shows on your watchlist? Which streaming service(s) offered the least?\n",
                "\n",
                "- Prime offered the most with 1 show.  Netflix, Hulu, and Disney offered the least.\n",
                "\n",
                "4. Based on the shows you want to watch and the results of your analysis, is there a streaming service you think would be a good fit for you?\n",
                "\n",
                "- None would be a good fit.  Since there is not much tv I would like to watch no use in having a streaming service.  "
            ]
        },
        {
            "cell_type": "markdown",
            "metadata": {},
            "source": [
                "# Bonus Mission\n",
                "\n",
                "We didn't end up using that `importance_rank` field, did we?\n",
                "\n",
                "Well, that was intentional! \n",
                "\n",
                "Your bonus mission is to come up with analysis that uses that field to determine, based on watchlist show importance_rank and number of watchlist shows available on a service, which platform you should subscribe to."
            ]
        },
        {
            "cell_type": "code",
            "execution_count": null,
            "metadata": {},
            "outputs": [],
            "source": [
                "# Code Here"
            ]
        }
    ],
    "metadata": {
        "kernelspec": {
            "display_name": "Python 3",
            "language": "python",
            "name": "python3"
        },
        "language_info": {
            "codemirror_mode": {
                "name": "ipython",
                "version": 3
            },
            "file_extension": ".py",
            "mimetype": "text/x-python",
            "name": "python",
            "nbconvert_exporter": "python",
            "pygments_lexer": "ipython3",
            "version": "3.12.5"
        }
    },
    "nbformat": 4,
    "nbformat_minor": 2
}
